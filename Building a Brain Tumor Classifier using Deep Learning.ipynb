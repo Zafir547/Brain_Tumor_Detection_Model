{
 "cells": [
  {
   "cell_type": "markdown",
   "metadata": {},
   "source": [
    "# Building a Brain Tumor Classifier using Deep Learning"
   ]
  },
  {
   "cell_type": "markdown",
   "metadata": {},
   "source": [
    "### Introduction\n",
    "Deep learning has paved its roots much more decisively in our daily lives. As a society, we experience miniature lifestyle changes, such as self-driving cars, Google Assistant, Netflix recommendations, spam email detection, and many more. Similarly, deep learning has also evolved in healthcare, where we use deep learning models to detect brain tumors using MRI scans, detect covid using lung x-rays, etc.\n",
    "A brain tumor is a serious disease with more than 1 million cases recorded annually.\n",
    "\n",
    "A magnetic resonance imaging (MRI) scan is used if a person has a brain tumor. A brain tumor can belong to any category, and an MRI examination of these millions of people to decide whether a person is suffering from this disease or not, and if so, what is his category, can be a difficult task. This is where deep learning models play a vital role, where it can decide whether a patient has a brain tumor or not just by providing an MRI image of the patient’s brain using neural networks.\n",
    "\n",
    "We will build a brain tumor classifier using CNN (Convolutional Neural Networks), widely used for image classification for its high accuracy. The programming language we will use is python."
   ]
  },
  {
   "cell_type": "markdown",
   "metadata": {},
   "source": [
    "### Overview of dataset\n",
    "We are using a brain tumor image classifier dataset that has 7022 images of human brain MRI images divided into training and testing sets also they are classified into 4 classes:\n",
    "\n",
    "- Glioma  \n",
    "- Meningioma  \n",
    "- No tumor \n",
    "- Pituitary."
   ]
  },
  {
   "cell_type": "markdown",
   "metadata": {},
   "source": [
    "![](33403btimage.png)"
   ]
  },
  {
   "cell_type": "markdown",
   "metadata": {},
   "source": [
    "These images have pixel sizes 512 x 512, and every image has its label fixed with it.\n",
    "\n",
    "\n",
    "Let’s move forward and import essential libraries that will help us classify these images."
   ]
  },
  {
   "cell_type": "markdown",
   "metadata": {},
   "source": [
    "### Importing the libraries"
   ]
  },
  {
   "cell_type": "markdown",
   "metadata": {},
   "source": [
    "For the starting part, where we will explore the dataset first and preprocess it using the Image data generator, we will be importing Tensorflow. In TensorFlow, we will be using the Keras library."
   ]
  },
  {
   "cell_type": "code",
   "execution_count": 1,
   "metadata": {},
   "outputs": [],
   "source": [
    "import pandas as pd\n",
    "import numpy as np\n",
    "import tensorflow\n",
    "from tensorflow import keras\n",
    "import matplotlib.pyplot as plt\n",
    "from keras.preprocessing.image import ImageDataGenerator as Imgen"
   ]
  },
  {
   "cell_type": "code",
   "execution_count": null,
   "metadata": {},
   "outputs": [],
   "source": [
    "import os\n",
    "import shutil\n",
    "from sklearn.model_selection import train_test_split\n",
    "\n",
    "image_paths = \"\"\n",
    "labels = \"glioma, meningioma, notumor, pituitary\"\n",
    "\n",
    "image_paths_test, image_paths_val, labels_test, labels_val = train_test_split(\n",
    "    image_paths, labels, test_size=0.5, stratify=labels, random_state=42\n",
    ")\n",
    "\n",
    "test_dir = 'test'\n",
    "val_dir = 'val'\n",
    "\n",
    "os.makedirs(test_dir, exist_ok=True)\n",
    "os.makedirs(val_dir, exist_ok=True)\n",
    "\n",
    "# Create subdirectories for each class\n",
    "classes = set(labels)  # Unique class labels\n",
    "\n",
    "for class_name in classes:\n",
    "    os.makedirs(os.path.join(test_dir, class_name), exist_ok=True)\n",
    "    os.makedirs(os.path.join(val_dir, class_name), exist_ok=True)\n",
    "\n",
    "def copy_images(image_paths, labels, root_dir):\n",
    "    for image_path, label in zip(image_paths, labels):\n",
    "        class_dir = os.path.join(root_dir, label)\n",
    "        shutil.copy(image_path, class_dir)\n",
    "\n",
    "# Copy the images to their respective directories\n",
    "copy_images(image_paths_test, labels_test, test_dir)\n",
    "copy_images(image_paths_val, labels_val, val_dir)\n",
    "\n",
    "print(\"Data has been split and saved to 'test' and 'val' directories.\")"
   ]
  },
  {
   "cell_type": "markdown",
   "metadata": {},
   "source": [
    "### Image Augmentation\n",
    "When we use any image dataset for training our model, sometimes it may not give us accurate results as the images in it may require some preprocessing like zooming, increasing brightness, changing the grayscale value, etc. Just like the binary data requires some data cleaning and preprocessing, the image dataset to needs it. For this, the Image data generator from the Keras library is used.\n",
    "\n",
    "It generates batches of tensor image data with real-time data augmentation, e.g., resizing all the images, and adjusting their height and width, so that the input image data is uniform.\n",
    "\n",
    "1. Args rescale: (rescaling factor). Defaults to None. Otherwise, we can multiply the data by the value provided.\n",
    "\n",
    "2. Shear_range: Shear Intensity (Shear angle in a counter-clockwise direction in degrees)\n",
    "\n",
    "3. Zoom_range: Range for random zoom\n",
    "\n",
    "4. Height_shift_range:  fraction of total height, if < 1\n",
    "\n",
    "5. Width_shift_range: fraction of total width, if < 1\n",
    "\n",
    "6. Fill_mode:Default is ‘nearest’. Points outside the boundaries of the input are filled according to the given mode.\n",
    "\n",
    "7. Validation_split: Fraction of images reserved for validation (strictly between 0 and 1)."
   ]
  },
  {
   "cell_type": "code",
   "execution_count": null,
   "metadata": {},
   "outputs": [],
   "source": [
    "#Augmenting the training dataset\n",
    "traingen = Imgen(\n",
    "    rescale=1./255,\n",
    "    shear_range = 0.2,\n",
    "    zoom_range = 0.2,\n",
    "    width_shift_range = 0.2,\n",
    "    height_shift_range = 0.2,\n",
    "    fill_mode = \"nearest\",\n",
    "    validation_split = 0.15)\n",
    "#Augmenting the testing dataset\n",
    "testgen = Imgen(# rescale the images to 1./255\n",
    "    rescale = 1./255\n",
    "    )"
   ]
  },
  {
   "cell_type": "markdown",
   "metadata": {},
   "source": [
    "Now, we will take the path to a directory & generate batches of augmented data."
   ]
  },
  {
   "cell_type": "code",
   "execution_count": null,
   "metadata": {},
   "outputs": [],
   "source": [
    "trainds = traingen.flow_from_directory(\"Training/\",\n",
    "                                       target_size = (130,130),\n",
    "                                       seed=123,\n",
    "                                       batch_size  = 16,\n",
    "                                       subset=\"training\"\n",
    "                                      )\n",
    "valds = traingen.flow_from_directory(\"Training\",\n",
    "                                     target_size = (130,130),\n",
    "                                     seed=123,\n",
    "                                     batch_size  = 16,\n",
    "                                     subset=\"validation\"\n",
    "                                      )\n",
    "testds = testgen.flow_from_directory(\"Validation\",\n",
    "                                     target_size = (130,130),\n",
    "                                     seed=123,\n",
    "                                     batch_size  = 16,\n",
    "                                     shuffle=False)"
   ]
  },
  {
   "cell_type": "markdown",
   "metadata": {},
   "source": [
    "Some arguments used here are,"
   ]
  },
  {
   "cell_type": "markdown",
   "metadata": {},
   "source": [
    "1. Target_size: Tuple of integers (height, width), defaults to (512, 512). The dimensions to which all images are found will be resized.\n",
    "\n",
    "2. Seed: Optional random seed for shuffling and transformations.\n",
    "\n",
    "3. Batch_size: Size of the batches of data (default: 32).\n",
    "\n",
    "4. Subset : Subset of data (“training” or “validation”).\n",
    "\n",
    "5. Shuffle: Whether to shuffle the data (default: True) If set to False, sorts the data in alphanumeric order.\n",
    "\n",
    "This step segregates our preprocessed image dataset into training, validation, and testing sets where the ratio of splitting of our image dataset into training and validation sets is 80% – 20%, where the validation dataset contains 20% of the training dataset. And in terms of the testing set, the dataset itself is divided into training and testing set folders, so there is no need to explicitly divide the testing set.\n",
    "\n",
    "The validation dataset is important while building a deep learning model to corroborate our model performance during training. This process is important to tune our model later based on its performance.\n",
    "\n",
    "To identify the classes of our dataset,"
   ]
  },
  {
   "cell_type": "code",
   "execution_count": null,
   "metadata": {},
   "outputs": [],
   "source": [
    "c = trainds.class_indices\n",
    "classes = list(c.keys())\n",
    "classes"
   ]
  },
  {
   "cell_type": "markdown",
   "metadata": {},
   "source": [
    "Therefore, our journey to build our first ever brain tumor classifier using deep learning is moving ahead successfully. We have our data augmented, divided into training, validation, and testing sets, and also we have identified the four classes of the image dataset.\n",
    "\n",
    "Now let’s visualize our images so we can look at how image augmentation has performed, and also, we will also use our classes to identify what type of brain tumor we are looking for."
   ]
  },
  {
   "cell_type": "code",
   "execution_count": null,
   "metadata": {},
   "outputs": [],
   "source": [
    "x,y = next(trainds)                          #function returns the next item in an iterator.\n",
    "def plotImages(x,y):\n",
    "    plt.figure(figsize=[15,11])              #size of the plot\n",
    "    for i in range(16):                      #16 images\n",
    "        plt.subplot(4,4,i+1)                 #4 by 4 plot\n",
    "        plt.imshow(x[i])                     #Imshow() is a function of matplotlib displays the image\n",
    "        plt.title(classes[np.argmax(y[i])])  # Class of the image will be it's title\n",
    "        plt.axis(\"off\")\n",
    "    plt.show()                               #shows the figure or plot"
   ]
  },
  {
   "cell_type": "markdown",
   "metadata": {},
   "source": [
    "Now we will plot our images by calling our defined function."
   ]
  },
  {
   "cell_type": "code",
   "execution_count": null,
   "metadata": {},
   "outputs": [],
   "source": [
    "#Call the plotImages function\n",
    "\n",
    "plotImages(x,y)\n",
    "\n",
    "#It will give us the output like this,"
   ]
  },
  {
   "cell_type": "markdown",
   "metadata": {},
   "source": [
    "Now, the most important step of this project is to start creating a Deep Learning model using Convolutional Neural Networks."
   ]
  },
  {
   "cell_type": "markdown",
   "metadata": {},
   "source": [
    "### Building the Deep Learning model\n",
    "\n",
    "Neural networks are widely used for almost every deep learning project because of their accuracy and ability to detect data without being explicitly programmed. Different kinds of neural networks are used according to the project’s needs; for example, we will use Artificial Neural Networks (ANN) for integer data. CNN is widely used for classifying image data. The main advantage of CNN is that it automatically detects important features in any image without human supervision. This may be why CNN would be a perfect solution to computer vision and image classification problems. Feature extraction is therefore vital for CNNs.\n",
    "\n",
    "The performed feature extraction consists of three basic operations:\n",
    "\n",
    "1. Filter an image for a particular feature (convolution)\n",
    "2. Detect that feature within the filtered image (ReLU)\n",
    "3. Condense the image to enhance the features (maximum pooling)\n",
    "\n",
    "Let’s discuss every operation of CNN.\n",
    "\n",
    "1. Convolution\n",
    "\n",
    "The convolutional layer performs the filtering step. The weights that ConvNet learns during training are primarily contained in its convolutional layers. These scales are called cores. The core works by scanning the image and producing a weighted pixel sum.\n",
    "\n"
   ]
  },
  {
   "cell_type": "markdown",
   "metadata": {},
   "source": [
    "![](34389conv.png)"
   ]
  },
  {
   "cell_type": "markdown",
   "metadata": {},
   "source": [
    "Different types of kernels produce different features for every image."
   ]
  },
  {
   "cell_type": "markdown",
   "metadata": {},
   "source": [
    "![](74556conv.png)"
   ]
  },
  {
   "cell_type": "markdown",
   "metadata": {},
   "source": [
    "### 2.Activation Function\n",
    "\n",
    "This is the most important part of a neural network. The activation function decides whether a particular neuron will fire or not based on the input it receives and passes it on to the next layer. The Rectified Linear Unit or ReLU is the most common activation function used due to its simple implementation and overcoming many other obstacles caused by other activation functions such as the Sigmoid.\n",
    "\n",
    "We also used the Softmax activation function in the model because it is used to classify multi-class datasets."
   ]
  },
  {
   "cell_type": "markdown",
   "metadata": {},
   "source": [
    "3. Maxpooling\n",
    "\n",
    "Max Pooling is a convolutional process where the kernel extracts the maximum value of the area it covers. Like max pooling, we can use average pooling. The ReLU (Detect) function in the function map ends up with a lot of “dead space”, we would like to condense the function map to keep only the most useful part of the function itself.\n",
    "\n",
    "To build the model, let’s first import the necessary libraries that we would need to create the model."
   ]
  },
  {
   "cell_type": "code",
   "execution_count": null,
   "metadata": {},
   "outputs": [],
   "source": [
    "from keras.models import Sequential\n",
    "from keras.layers import Dense, Flatten, Dropout, Conv2D, MaxPooling2D, Activation\n",
    "from keras.layers import categorical_crossentropy\n",
    "from keras.optimizers import Adam"
   ]
  },
  {
   "cell_type": "markdown",
   "metadata": {},
   "source": [
    "Below is The CNN model."
   ]
  },
  {
   "cell_type": "code",
   "execution_count": null,
   "metadata": {},
   "outputs": [],
   "source": [
    "cnn = Sequential([\n",
    "    # first Layer\n",
    "    Conv2D(filters=16, kernel_size=(3, 3), padding = 'same', activation='relu', input_shape=(130, 130, 3)),\n",
    "    MaxPooling2D((2, 2)),\n",
    "    # second layer\n",
    "    Conv2D(filters=32, kernel_size=(3, 3), padding = 'same', activation='relu'),\n",
    "    MaxPooling2D((2, 2)),\n",
    "    Dropout(0.20),\n",
    "    Flatten(),\n",
    "    Dense(64, activation='relu'),\n",
    "    Dense(32, activation='relu'),\n",
    "    Dense(10, activation='relu'),\n",
    "    Dense(4, activation='softmax')\n",
    "])"
   ]
  },
  {
   "cell_type": "markdown",
   "metadata": {},
   "source": [
    "Some basic terminologies used here are,\n",
    "\n",
    "Dropout layer: This layer is used on any hidden layer but cannot be used on an output layer. This layer is mainly used to prevent the overfitting of our model.\n",
    "\n",
    "Flatten layer: This layer is mainly used to convert multidimensional input to unidimensional output.\n",
    "\n",
    "Dense layer: A simple layer of neurons where each neural network is interconnected.\n",
    "\n",
    "Since our output will consist of any of the four classes glioma, meningioma, no tumor, and pituitary, we gave the output layer four units.\n",
    "\n",
    "Following is the architecture of the created model."
   ]
  },
  {
   "cell_type": "code",
   "execution_count": null,
   "metadata": {},
   "outputs": [],
   "source": [
    "cnn.summary()"
   ]
  },
  {
   "cell_type": "markdown",
   "metadata": {},
   "source": [
    "Compile the model created with the help of the following parameters,"
   ]
  },
  {
   "cell_type": "code",
   "execution_count": null,
   "metadata": {},
   "outputs": [],
   "source": [
    "cnn.compile(loss = \"categorical_crossentropy\",\n",
    "            optimizer = \"Adam\", metrics = [\"accuracy\"])"
   ]
  },
  {
   "cell_type": "markdown",
   "metadata": {},
   "source": [
    "So the loss function we have chosen here is the categorical cross-entropy. A loss function is essential when developing a deep learning model to measure the difference between predicted and actual output so that neural networks can adjust their weights to increase their accuracy. Categorical cross-entropy is used when an image is to be classified among many classes.\n",
    "\n",
    "The optimizer in neural networks is mostly used to adjust the weights of the neural networks and improve the learning speed of the model to reduce the losses. Here, Adam is the most commonly used optimizer.\n",
    "\n",
    "Let’s fit our data to the CNN model we created."
   ]
  },
  {
   "cell_type": "code",
   "execution_count": null,
   "metadata": {},
   "outputs": [],
   "source": [
    "history = cnn.fit(trainds,validation_data=valds,epochs=10, batch_size=16, verbose=1)"
   ]
  },
  {
   "cell_type": "markdown",
   "metadata": {},
   "source": [
    "As we can see, our proposed CNN model has given us an accuracy of 98% on training data! And on validation data, we have received more than 86% accuracy. Now let’s evaluate this model on the testing dataset."
   ]
  },
  {
   "cell_type": "code",
   "execution_count": null,
   "metadata": {},
   "outputs": [],
   "source": [
    "cnn.evaluate(testds)"
   ]
  },
  {
   "cell_type": "markdown",
   "metadata": {},
   "source": [
    "As we can see, our proposed CNN model performed quite well on the test data. When fitting the model, we declared the training data as ‘trainds’ in the code above and kept the epochs as 10, which means our model trains the neural network with the training data ten times and set Verbose to 1 to see fitting the model after one epoch in real-time.\n",
    "\n",
    "Now let’s visualize some of our results."
   ]
  },
  {
   "cell_type": "markdown",
   "metadata": {},
   "source": [
    "### Visualization using Deep Learning"
   ]
  },
  {
   "cell_type": "markdown",
   "metadata": {},
   "source": [
    "We will plot a graph between our accuracy achieved and the number of epochs to see how our training and validation accuracy increases."
   ]
  },
  {
   "cell_type": "code",
   "execution_count": null,
   "metadata": {},
   "outputs": [],
   "source": [
    "epochs = range(len(history.history['accuracy']))\n",
    "plt.plot(epochs, history.history['accuracy'], 'green', label='Accuracy of Training Data')\n",
    "plt.plot(epochs, history.history['val_accuracy'], 'red', label='Accuracy of Validation Data')\n",
    "plt.xlabel('Total Epochs')\n",
    "plt.ylabel('Accuracy achieved')\n",
    "plt.title('Training and Validation Accuracy')\n",
    "plt.legend(loc=0)\n",
    "plt.figure()"
   ]
  },
  {
   "cell_type": "markdown",
   "metadata": {},
   "source": [
    "Through this graph, we can assume that our model is pretty consistent with training and validation data as our graph is pretty much visible to us.\n",
    "\n",
    "Now we will classify some sample images with the help of the model that we created."
   ]
  },
  {
   "cell_type": "markdown",
   "metadata": {},
   "source": [
    "### Prediction using Deep Learning\n",
    "\n",
    "For predicting some sample images with the help of our model, we will first need to import that image, perform normalization on that image, and convert it into an array for smooth prediction."
   ]
  },
  {
   "cell_type": "code",
   "execution_count": null,
   "metadata": {},
   "outputs": [],
   "source": [
    "from matplotlib.pyplot import imshow\n",
    "from PIL import Image, ImageOps\n",
    "data = np.ndarray(shape=(1, 130, 130, 3), dtype=np.float32)\n",
    "image = Image.open(\"image(2).jpg\")\n",
    "size = (130, 130)\n",
    "image = ImageOps.fit(image, size, Image.ANTIALIAS)\n",
    "image_array = np.asarray(image)\n",
    "display(image)\n",
    "normalized_image_array = (image_array.astype(np.float32) / 127.0) - 1\n",
    "data[0] = normalized_image_array"
   ]
  },
  {
   "cell_type": "markdown",
   "metadata": {},
   "source": [
    "Here we have used libraries like matplotlib for imshow(), which helps us display the image, and Python Imaging Library (PIL), which deals with all types of image operations. From PIL, we use ImageOps, which is a module for multiple imaging and image preprocessing operations.\n",
    "\n",
    "Now we will predict the class of the above image, i.e., tumor type, using our CNN model."
   ]
  },
  {
   "cell_type": "code",
   "execution_count": null,
   "metadata": {},
   "outputs": [],
   "source": [
    "prediction = cnn.predict(data)\n",
    "print(prediction)\n",
    "predict_index = np.argmax(prediction)\n",
    "print(predict_index)"
   ]
  },
  {
   "cell_type": "markdown",
   "metadata": {},
   "source": [
    "It is confirmed that our above-normalized image belongs to the second class (starting from zero), i.e. No tumor, which is the right answer. Let’s print this answer."
   ]
  },
  {
   "cell_type": "code",
   "execution_count": null,
   "metadata": {},
   "outputs": [],
   "source": [
    "print(\"There's {:.2f} percent probability that the person has No Tumor\".format(prediction[0][2]*100))"
   ]
  },
  {
   "cell_type": "markdown",
   "metadata": {},
   "source": [
    "In this way, we can firmly say that our CNN model effectively predicts any type of brain tumor data with maximum accuracy. You can use any brain tumor dataset above for the given model architecture."
   ]
  },
  {
   "cell_type": "markdown",
   "metadata": {},
   "source": [
    "### Conclusion\n",
    "As we see how technology has greatly influenced our lifestyle and culture. Using technology to improve our people is the best it can do. We all have the vision to improve this technology every step of the way and make it useful for everyday life. Using Deep Learning in healthcare is the best option. Like the above Deep Learning model for brain tumor classification, we can use these models in every sector by applying certain modifications.\n",
    "\n",
    "We learned how to use Tensorflow and Keras for this deep learning model and different techniques to help improve our accuracy and also did data visualizations. Try to use the above techniques to develop any deep learning model and successfully apply them to any given an example."
   ]
  }
 ],
 "metadata": {
  "kernelspec": {
   "display_name": "Python 3",
   "language": "python",
   "name": "python3"
  },
  "language_info": {
   "codemirror_mode": {
    "name": "ipython",
    "version": 3
   },
   "file_extension": ".py",
   "mimetype": "text/x-python",
   "name": "python",
   "nbconvert_exporter": "python",
   "pygments_lexer": "ipython3",
   "version": "3.10.11"
  }
 },
 "nbformat": 4,
 "nbformat_minor": 2
}
